{
 "cells": [
  {
   "cell_type": "code",
   "execution_count": 1,
   "id": "66907fde",
   "metadata": {},
   "outputs": [],
   "source": [
    "class Model(Module):\n",
    "    def __init__(self):\n",
    "        super().__init__()\n",
    "        self.activation = ReLU()\n",
    "        self.iters = 10\n",
    "        self.linear1 = Linear(len(words),512)\n",
    "        self.linear2 = Linear(512,512)\n",
    "        self.linear2bn = BatchNorm1d(512)\n",
    "        self.output = Linear(512,len(labels))\n",
    "    \n",
    "    def forward(self,X):\n",
    "        preds = self.linear1(X)\n",
    "        for _ in range(self.iters):\n",
    "            preds = self.activation(self.linear2bn(self.linear2(preds)))\n",
    "        preds = self.output(preds)\n",
    "        return preds"
   ]
  },
  {
   "cell_type": "code",
   "execution_count": 2,
   "id": "8c3cd730",
   "metadata": {},
   "outputs": [],
   "source": [
    "import wandb\n",
    "import nltk\n",
    "from nltk.stem.porter import *\n",
    "from torch.nn import *\n",
    "from torch.optim import *\n",
    "import numpy as np\n",
    "import pandas as pd\n",
    "import torch,torchvision\n",
    "import random\n",
    "from tqdm import *\n",
    "from torch.utils.data import Dataset,DataLoader\n",
    "stemmer = PorterStemmer()\n",
    "PROJECT_NAME = 'Text-Is-About-Covid-or-Not'\n",
    "device = 'cuda'"
   ]
  },
  {
   "cell_type": "code",
   "execution_count": 3,
   "id": "26305e8c",
   "metadata": {},
   "outputs": [],
   "source": [
    "def tokenize(sentence):\n",
    "    return nltk.word_tokenize(sentence)"
   ]
  },
  {
   "cell_type": "code",
   "execution_count": 4,
   "id": "860874e0",
   "metadata": {},
   "outputs": [
    {
     "name": "stdout",
     "output_type": "stream",
     "text": [
      "['$', '1000']"
     ]
    }
   ],
   "source": [
    "tokenize('$1000')"
   ]
  },
  {
   "cell_type": "code",
   "execution_count": 5,
   "id": "78e1b437",
   "metadata": {},
   "outputs": [],
   "source": [
    "def stem(word):\n",
    "    return stemmer.stem(word.lower())"
   ]
  },
  {
   "cell_type": "code",
   "execution_count": 6,
   "id": "36e1a582",
   "metadata": {},
   "outputs": [
    {
     "name": "stdout",
     "output_type": "stream",
     "text": [
      "'organ'"
     ]
    }
   ],
   "source": [
    "stem('organic')"
   ]
  },
  {
   "cell_type": "code",
   "execution_count": 7,
   "id": "aa0d8403",
   "metadata": {},
   "outputs": [],
   "source": [
    "def bag_of_words(tokenized_words,words):\n",
    "    tokenized_words = [stem(w) for w in tokenized_words]\n",
    "    bag = np.zeros(len(words))\n",
    "    for idx,w in enumerate(words):\n",
    "        if w in tokenized_words:\n",
    "            bag[idx] = 1.0\n",
    "    return bag"
   ]
  },
  {
   "cell_type": "code",
   "execution_count": 8,
   "id": "7efedaa3",
   "metadata": {},
   "outputs": [
    {
     "name": "stdout",
     "output_type": "stream",
     "text": [
      "array([1., 0., 1.])"
     ]
    }
   ],
   "source": [
    "bag_of_words(['hi'],['hi','how','hi'])"
   ]
  },
  {
   "cell_type": "code",
   "execution_count": 9,
   "id": "3a138bae",
   "metadata": {},
   "outputs": [],
   "source": [
    "data = pd.read_csv('./data.csv')"
   ]
  },
  {
   "cell_type": "code",
   "execution_count": 10,
   "id": "9dbfca55",
   "metadata": {},
   "outputs": [],
   "source": [
    "X = data['']\n",
    "y = data['']\n",
    "words = []\n",
    "data = []\n",
    "idx = 0\n",
    "labels = {}\n",
    "labels_r = {}"
   ]
  },
  {
   "cell_type": "code",
   "execution_count": 11,
   "id": "975cbbc0",
   "metadata": {},
   "outputs": [
    {
     "name": "stdout",
     "output_type": "stream",
     "text": [
      "       Sno        Date                                           Headline  \\\n",
      "0        0  2020-04-29  Coronavirus cases reach 2,438 in Rajasthan; 81...   \n",
      "1        1  2020-04-29  Coronavirus cases in Delhi surge to 3,439 afte...   \n",
      "2        2  2020-04-30  Anguished, I'll always recall our interactions...   \n",
      "3        3  2020-04-30  It's a terrible week for Indian cinema: Rahul ...   \n",
      "4        4  2020-04-30  Delhi Police perform 'parikrama' of AIIMS to t...   \n",
      "...    ...         ...                                                ...   \n",
      "4067  4067  2020-03-01  Pope Francis expels Kerala priest jailed for r...   \n",
      "4068  4068  2020-03-01  May never be excited about a crowd again after...   \n",
      "4069  4069  2020-03-01  Kitne mein bikay: Anurag to Kejriwal after AAP...   \n",
      "4070  4070  2020-03-01  Polish student at JU asked to leave India like...   \n",
      "4071  4071  2020-03-01  22 FIRs against anti-CAA protesters, notices t...   \n",
      "\n",
      "      Covid  Sentiment                                        Description  \\\n",
      "0         1          0  Rajasthan on Wednesday reported 74 new coronav...   \n",
      "1         1          0  The total number of coronavirus cases in Delhi...   \n",
      "2         0          1  Condoling the demise of actor Rishi Kapoor, PM...   \n",
      "3         0          0  Congress leader Rahul Gandhi condoled Rishi Ka...   \n",
      "4         1          1  As a sign of respect for healthcare profession...   \n",
      "...     ...        ...                                                ...   \n",
      "4067      0          0  Adhering to a policy of \"zero tolerance\" for c...   \n",
      "4068      0          1  While addressing a rally in South Carolina, US...   \n",
      "4069      0          0  After AAP government granted sanction to Delhi...   \n",
      "4070      0          0  Kamil Siedcynski, a Polish student at Kolkata'...   \n",
      "4071      0          0  Police have lodged 22 FIRs against anti-CAA pr...   \n",
      "\n",
      "                                                  Image  \\\n",
      "0     https://static.inshorts.com/inshorts/images/v1...   \n",
      "1     https://static.inshorts.com/inshorts/images/v1...   \n",
      "2     https://static.inshorts.com/inshorts/images/v1...   \n",
      "3     https://static.inshorts.com/inshorts/images/v1...   \n",
      "4     https://static.inshorts.com/inshorts/images/v1...   \n",
      "...                                                 ...   \n",
      "4067  https://static.getinpix.com/public/images/v1/v...   \n",
      "4068  https://static.getinpix.com/public/images/v1/v...   \n",
      "4069  https://static.getinpix.com/public/images/v1/v...   \n",
      "4070  https://static.getinpix.com/public/images/v1/v...   \n",
      "4071  https://static.getinpix.com/public/images/v1/v...   \n",
      "\n",
      "                                                 Source  \n",
      "0     http://www.rajswasthya.nic.in/?utm_campaign=fu...  \n",
      "1     https://twitter.com/shemin_joy/status/12555489...  \n",
      "2     https://twitter.com/narendramodi/status/125573...  \n",
      "3     https://zeenews.india.com/india/politicians-mo...  \n",
      "4     https://zeenews.india.com/india/delhi-police-p...  \n",
      "...                                                 ...  \n",
      "4067  https://www.thequint.com/news/india/pope-franc...  \n",
      "4068  https://www.aninews.in/news/world/asia/may-nev...  \n",
      "4069  https://www.freepressjournal.in/entertainment/...  \n",
      "4070          https://covid-positive-news.herokuapp.com  \n",
      "4071          https://covid-positive-news.herokuapp.com  \n",
      "\n",
      "[4072 rows x 8 columns]"
     ]
    }
   ],
   "source": [
    "data"
   ]
  },
  {
   "cell_type": "code",
   "execution_count": 12,
   "id": "d30901e2",
   "metadata": {},
   "outputs": [],
   "source": [
    "X = data['Description']\n",
    "y = data['Covid']\n",
    "words = []\n",
    "data = []\n",
    "idx = 0\n",
    "labels = {}\n",
    "labels_r = {}"
   ]
  },
  {
   "cell_type": "code",
   "execution_count": 13,
   "id": "9ebb097b",
   "metadata": {},
   "outputs": [],
   "source": [
    "for label in y:\n",
    "    if label not in list(labels.keys()):\n",
    "        idx += 1\n",
    "        labels[label] = idx\n",
    "        labels_r[idx] = label"
   ]
  },
  {
   "cell_type": "code",
   "execution_count": 14,
   "id": "18a8e5b0",
   "metadata": {},
   "outputs": [],
   "source": [
    "for X_batch,y_batch in tqdm(zip(X,y)):\n",
    "    X_batch = tokenize(X_batch)\n",
    "    new_X = []\n",
    "    for Xb in X_batch:\n",
    "        new_X.append(stem(Xb))\n",
    "    words.extend(new_X)\n",
    "    data.append([\n",
    "        new_X,\n",
    "        np.eye(labels[y_batch]+1,len(labels))[labels[y_batch]]\n",
    "    ])"
   ]
  },
  {
   "cell_type": "code",
   "execution_count": 15,
   "id": "956437d0",
   "metadata": {},
   "outputs": [],
   "source": [
    "words = sorted(set(words))\n",
    "np.random.shuffle(data)"
   ]
  },
  {
   "cell_type": "code",
   "execution_count": 16,
   "id": "514a8d88",
   "metadata": {},
   "outputs": [],
   "source": [
    "X = []\n",
    "y = []"
   ]
  },
  {
   "cell_type": "code",
   "execution_count": 17,
   "id": "971a9363",
   "metadata": {},
   "outputs": [],
   "source": [
    "for sentence,tag in tqdm(data):\n",
    "    X.append(bag_of_words(sentence,words))\n",
    "    y.append(tag)"
   ]
  },
  {
   "cell_type": "code",
   "execution_count": 18,
   "id": "22bf22d2",
   "metadata": {},
   "outputs": [],
   "source": [
    "from sklearn.model_selection import *\n",
    "X_train,X_test,y_train,y_test = train_test_split(X,y,test_size=0.125,shuffle=False)\n",
    "X_train = torch.from_numpy(np.array(X_train)).to(device).float()\n",
    "y_train = torch.from_numpy(np.array(y_train)).to(device).float()\n",
    "X_test = torch.from_numpy(np.array(X_test)).to(device).float()\n",
    "y_test = torch.from_numpy(np.array(y_test)).to(device).float()"
   ]
  },
  {
   "cell_type": "code",
   "execution_count": 19,
   "id": "d55c8871",
   "metadata": {},
   "outputs": [],
   "source": [
    "def get_loss(model,X,y,criterion):\n",
    "    preds = model(X)\n",
    "    loss = criterion(preds,y)\n",
    "    return loss.item()"
   ]
  },
  {
   "cell_type": "code",
   "execution_count": 20,
   "id": "e427f401",
   "metadata": {},
   "outputs": [],
   "source": [
    "def get_accuracy(model,X,y):\n",
    "    preds = model(X)\n",
    "    correct = 0\n",
    "    total = 0\n",
    "    for pred,yb in zip(preds,y):\n",
    "        pred = int(torch.argmax(pred))\n",
    "        yb = int(torch.argmax(yb))\n",
    "        if pred == yb:\n",
    "            correct += 1\n",
    "        total += 1\n",
    "    acc = round(correct/total,3)*100\n",
    "    return acc"
   ]
  },
  {
   "cell_type": "code",
   "execution_count": 21,
   "id": "4aa598dd",
   "metadata": {},
   "outputs": [],
   "source": [
    "class Model(Module):\n",
    "    def __init__(self):\n",
    "        super().__init__()\n",
    "        self.activation = ReLU()\n",
    "        self.iters = 10\n",
    "        self.linear1 = Linear(len(words),512)\n",
    "        self.linear2 = Linear(512,512)\n",
    "        self.linear2bn = BatchNorm1d(512)\n",
    "        self.output = Linear(512,len(labels))\n",
    "    \n",
    "    def forward(self,X):\n",
    "        preds = self.linear1(X)\n",
    "        for _ in range(self.iters):\n",
    "            preds = self.activation(self.linear2bn(self.linear2(preds)))\n",
    "        preds = self.output(preds)\n",
    "        return preds"
   ]
  },
  {
   "cell_type": "code",
   "execution_count": 22,
   "id": "474241da",
   "metadata": {},
   "outputs": [],
   "source": [
    "model = Model().to(device)\n",
    "criterion = MSELoss()\n",
    "optimizer = Adam(model.parameters(),lr=0.001)\n",
    "epochs = 100\n",
    "batch_size = 32"
   ]
  },
  {
   "cell_type": "code",
   "execution_count": 23,
   "id": "3401616c",
   "metadata": {},
   "outputs": [
    {
     "data": {
      "text/html": [
       "\n",
       "                Tracking run with wandb version 0.12.1<br/>\n",
       "                Syncing run <strong style=\"color:#cdcd00\">baseline</strong> to <a href=\"https://wandb.ai\" target=\"_blank\">Weights & Biases</a> <a href=\"https://docs.wandb.com/integrations/jupyter.html\" target=\"_blank\">(Documentation)</a>.<br/>\n",
       "                Project page: <a href=\"https://wandb.ai/ranuga-d/Text-Is-About-Covid-or-Not\" target=\"_blank\">https://wandb.ai/ranuga-d/Text-Is-About-Covid-or-Not</a><br/>\n",
       "                Run page: <a href=\"https://wandb.ai/ranuga-d/Text-Is-About-Covid-or-Not/runs/1dymwuiu\" target=\"_blank\">https://wandb.ai/ranuga-d/Text-Is-About-Covid-or-Not/runs/1dymwuiu</a><br/>\n",
       "                Run data is saved locally in <code>/home/indika/Programming/Projects/Python/Artifical-Intelligence/PyTorch/NLP/Text-Is-About-Covid-or-Not/wandb/run-20211005_092604-1dymwuiu</code><br/><br/>\n",
       "            "
      ],
      "text/plain": [
       "<IPython.core.display.HTML object>"
      ]
     },
     "metadata": {},
     "output_type": "display_data"
    }
   ],
   "source": [
    "wandb.init(project=PROJECT_NAME,name='baseline')\n",
    "for _ in tqdm(range(epochs)):\n",
    "    for i in range(0,len(X_train),batch_size):\n",
    "        X_batch = X_train[i:i+batch_size]\n",
    "        y_batch = y_train[i:i+batch_size]\n",
    "        preds = model(X_batch)\n",
    "        loss = criterion(preds,y_batch)\n",
    "        optimizer.zero_grad()\n",
    "        loss.backward()\n",
    "        optimizer.step()\n",
    "    model.eval()\n",
    "    torch.cuda.empty_cache()\n",
    "    wandb.log({'Loss':(get_loss(model,X_train,y_train,criterion)+get_loss(model,X_batch,y_batch,criterion)/2)})\n",
    "    torch.cuda.empty_cache()\n",
    "    wandb.log({'Val Loss':get_loss(model,X_test,y_test,criterion)})\n",
    "    torch.cuda.empty_cache()\n",
    "    wandb.log({'Acc':(get_accuracy(model,X_train,y_train)+get_accuracy(model,X_batch,y_batch))/2})\n",
    "    torch.cuda.empty_cache()\n",
    "    wandb.log({'Val Acc':get_accuracy(model,X_test,y_test)})\n",
    "    torch.cuda.empty_cache()\n",
    "    model.train()\n",
    "wandb.finish()\n",
    "torch.cuda.empty_cache()"
   ]
  }
 ],
 "metadata": {
  "kernelspec": {
   "display_name": "Python 3",
   "language": "python",
   "name": "python3"
  },
  "language_info": {
   "codemirror_mode": {
    "name": "ipython",
    "version": 3
   },
   "file_extension": ".py",
   "mimetype": "text/x-python",
   "name": "python",
   "nbconvert_exporter": "python",
   "pygments_lexer": "ipython3",
   "version": "3.7.11"
  }
 },
 "nbformat": 4,
 "nbformat_minor": 5
}
